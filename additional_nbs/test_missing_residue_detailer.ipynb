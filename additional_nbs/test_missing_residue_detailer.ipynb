{
 "cells": [
  {
   "cell_type": "markdown",
   "metadata": {},
   "source": [
    "## A Jupyter Notebook testing if output of utility script `missing_residue_detailer.py` makes same content as FirstGlance in Jmol\n",
    "\n",
    "Note this is meant to be run in a session launched from [here](https://github.com/fomightez/PDBmodelComparator/). If you didn't get here using a '`launch binder`' badge there, go there now and do that to get started, unless you are a Jupyter & pytest wizard.\n",
    "\n",
    "One of the main parts of the PDBmodelComparator is the script `missing_residue_detailer.py`. This script runs at the start of PDBmodelComparator use and is expected to give the same details about missing residues as you'd get if you opened [FirstGlance in Jmol](https://www.bioinformatics.org/firstglance/fgij/) for a PDB entry and selected to have it give you infromation detailing missing residues.    \n",
    "These tests run with pytest are meant to verify that indeed the script `missing_residue_detailer.py` and [FirstGlance in Jmol](https://www.bioinformatics.org/firstglance/fgij/) give the same results for a few PDB entries. At this time, these test aren't meant to be exhaustive; Eric Martz's comments in FirstGLance in Jmol's `moltab.js` code notes a collection of PDB entries that served to inform his coding of handling the report concerning the missing reside section REMARK 465 and more of those could be added.\n",
    "\n",
    "**Note this uses FirstGlance in Jmol data I collected at the time of development (start of 2025) for the comparisons, and so unless you change the input to be current, which I'd encourage you to do if it matters, then this isn't testing it matches the latest FirstGlance in Jmol may produce.** Keep in mind though if you do update the data for PDB codes to what FirstGlance in Jmol generates now and the tests below begin to fail, **it may not matter for the PDBmodelComparator because PDBmodelComparator was developed using `missing_residue_detailer.py` as it stood at that time**. In other words, this issue of the exact source of the FirstGlance in Jmol data currently will only matter if you are interested in the utility script `missing_residue_detailer.py` because it is meant to match what Eric Martz's FirstGlance in Jmol's `moltab.js` makes in regards to missing residues.  \n",
    "Also see [here](https://github.com/fomightez/PDBmodelComparator/tree/main/additional_nbs/tests/README.md) if you need more insight into development of this utility script that I store [here](https://github.com/fomightez/structurework/tree/master/PDBmodelComparator-utilities).\n",
    "\n",
    "-----\n",
    "\n",
    "### Preparation\n",
    "\n",
    "We'll change the current working directory the the root directory so that this test is run where and how most of the use of the PDBmodelComparator is meant to happen. (It could be done in a different directory; however, why do that only to wonder if some obscure aspect isn't getting tested by running pytest elsewhere.)  \n",
    "The next cell will do that:"
   ]
  },
  {
   "cell_type": "code",
   "execution_count": null,
   "metadata": {},
   "outputs": [],
   "source": [
    "%cd ~"
   ]
  },
  {
   "cell_type": "markdown",
   "metadata": {},
   "source": [
    "------------\n",
    "\n",
    "## Running the tests of `missing_residue_detailer.py`\n",
    "\n",
    "Now with the set-up done we can run the test file by running the next cell:"
   ]
  },
  {
   "cell_type": "code",
   "execution_count": null,
   "metadata": {},
   "outputs": [],
   "source": [
    "!pytest -v additional_nbs/tests/test_missing_residue_detailer.py "
   ]
  },
  {
   "cell_type": "markdown",
   "metadata": {},
   "source": [
    "Hopefully all tests passed. (While this isn't the state I left things at this time because I am still developing, I hope that this will be how I'll leave things. And so if there are issues, then it is something that has changed. **Note this uses FirstGlance in Jmol data I collected at the time of development and so unless you changed the input, which I'd encourage you to do if it matters that it matches what currently FirstGlance in Jmol generates, then it isn't anything to do with FirstGlance in Jmol.**)  \n",
    "The first one just tested the set-up of things. \n",
    "If all the test after that one failed then something is wrong with `missing_residue_detailer.py` or the tests. More likely the former, since the tests were tested well during development.   \n",
    "If only some failed...  \n",
    "The specific PDB codes of those that failed should guide you in how to proceed. If it is only a few corner cases, then you may be fine still using `missing_residue_detailer.py` as it is. \n",
    "\n",
    "----\n",
    "\n",
    "Enjoy!"
   ]
  },
  {
   "cell_type": "code",
   "execution_count": null,
   "metadata": {},
   "outputs": [],
   "source": []
  }
 ],
 "metadata": {
  "kernelspec": {
   "display_name": "Python 3 (ipykernel)",
   "language": "python",
   "name": "python3"
  },
  "language_info": {
   "codemirror_mode": {
    "name": "ipython",
    "version": 3
   },
   "file_extension": ".py",
   "mimetype": "text/x-python",
   "name": "python",
   "nbconvert_exporter": "python",
   "pygments_lexer": "ipython3",
   "version": "3.10.14"
  }
 },
 "nbformat": 4,
 "nbformat_minor": 4
}
