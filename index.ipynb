{
 "cells": [
  {
   "cell_type": "markdown",
   "metadata": {},
   "source": [
    "## PDBmodelComparator use via MyBinder.org"
   ]
  },
  {
   "cell_type": "markdown",
   "metadata": {},
   "source": [
    "Choose one of the available notebooks to get started. If you are new, start at the top and work down.\n",
    "\n",
    "### Available Notebooks\n",
    "\n",
    "- [TBD](TBDipynb)\n",
    "- [TBD](TBDipynb)\n",
    "- [TBD](TBDipynb)\n",
    "- [TBD](TBDipynb)\n",
    "\n",
    "\n",
    "#### Advanced/Technical:\n",
    "\n",
    "- [(Technical) Jupyter Notebook testing if output of utility script `missing_residue_detailer.py` makes same content as FirstGlance in Jmol](additional_nbs/test_missing_residue_detailer.ipynb)\n",
    "\n",
    "-----"
   ]
  }
 ],
 "metadata": {
  "kernelspec": {
   "display_name": "Python 3 (ipykernel)",
   "language": "python",
   "name": "python3"
  },
  "language_info": {
   "codemirror_mode": {
    "name": "ipython",
    "version": 3
   },
   "file_extension": ".py",
   "mimetype": "text/x-python",
   "name": "python",
   "nbconvert_exporter": "python",
   "pygments_lexer": "ipython3",
   "version": "3.10.12"
  }
 },
 "nbformat": 4,
 "nbformat_minor": 4
}